{
  "nbformat": 4,
  "nbformat_minor": 0,
  "metadata": {
    "colab": {
      "name": "Credit card fraud detection.ipynb",
      "provenance": [],
      "collapsed_sections": []
    },
    "kernelspec": {
      "name": "python3",
      "display_name": "Python 3"
    },
    "language_info": {
      "name": "python"
    }
  },
  "cells": [
    {
      "cell_type": "code",
      "metadata": {
        "colab": {
          "base_uri": "https://localhost:8080/"
        },
        "id": "BsntaTX7bYUQ",
        "outputId": "aa2079e3-cedb-4c10-814e-cc7514865556"
      },
      "source": [
        "from google.colab import drive\n",
        "drive.mount(\"/content/drive\")"
      ],
      "execution_count": 1,
      "outputs": [
        {
          "output_type": "stream",
          "text": [
            "Mounted at /content/drive\n"
          ],
          "name": "stdout"
        }
      ]
    },
    {
      "cell_type": "markdown",
      "metadata": {
        "id": "sq1T9kXUxkwC"
      },
      "source": [
        "# Importing Libraries"
      ]
    },
    {
      "cell_type": "code",
      "metadata": {
        "id": "Ni-nkk2Qfu7p"
      },
      "source": [
        "import pandas as pd\n",
        "import matplotlib.pyplot as plt\n",
        "import scipy.stats as stats\n",
        "import numpy as np\n",
        "import seaborn as sns\n",
        "plt.style.use('ggplot')"
      ],
      "execution_count": 2,
      "outputs": []
    },
    {
      "cell_type": "code",
      "metadata": {
        "id": "ZjCrm2TpbYJB"
      },
      "source": [
        "triplets_file = '/content/drive/MyDrive/transactions.txt'\n",
        "card_df = pd.read_table(triplets_file,header=None)"
      ],
      "execution_count": 3,
      "outputs": []
    },
    {
      "cell_type": "code",
      "metadata": {
        "id": "5CVt4jP4uqv8"
      },
      "source": [
        "import json\n",
        "\n",
        "with open('/content/drive/MyDrive/transactions.txt', 'r') as file:\n",
        "    data = file.readlines()\n",
        "\n",
        "data = [json.loads(d) for d in data]\n",
        "df = pd.DataFrame(data)"
      ],
      "execution_count": 4,
      "outputs": []
    },
    {
      "cell_type": "code",
      "metadata": {
        "colab": {
          "base_uri": "https://localhost:8080/"
        },
        "id": "K9LHBKqpbX-Z",
        "outputId": "e2896074-1851-40f1-de1c-152f9d485ca6"
      },
      "source": [
        "df.columns"
      ],
      "execution_count": 5,
      "outputs": [
        {
          "output_type": "execute_result",
          "data": {
            "text/plain": [
              "Index(['accountNumber', 'customerId', 'creditLimit', 'availableMoney',\n",
              "       'transactionDateTime', 'transactionAmount', 'merchantName',\n",
              "       'acqCountry', 'merchantCountryCode', 'posEntryMode', 'posConditionCode',\n",
              "       'merchantCategoryCode', 'currentExpDate', 'accountOpenDate',\n",
              "       'dateOfLastAddressChange', 'cardCVV', 'enteredCVV', 'cardLast4Digits',\n",
              "       'transactionType', 'echoBuffer', 'currentBalance', 'merchantCity',\n",
              "       'merchantState', 'merchantZip', 'cardPresent', 'posOnPremises',\n",
              "       'recurringAuthInd', 'expirationDateKeyInMatch', 'isFraud'],\n",
              "      dtype='object')"
            ]
          },
          "metadata": {
            "tags": []
          },
          "execution_count": 5
        }
      ]
    },
    {
      "cell_type": "code",
      "metadata": {
        "colab": {
          "base_uri": "https://localhost:8080/"
        },
        "id": "aEBrsYQzgAH6",
        "outputId": "a03daf9e-0777-4b80-9d23-a25aab0dfbe5"
      },
      "source": [
        "df.info()"
      ],
      "execution_count": 6,
      "outputs": [
        {
          "output_type": "stream",
          "text": [
            "<class 'pandas.core.frame.DataFrame'>\n",
            "RangeIndex: 786363 entries, 0 to 786362\n",
            "Data columns (total 29 columns):\n",
            " #   Column                    Non-Null Count   Dtype  \n",
            "---  ------                    --------------   -----  \n",
            " 0   accountNumber             786363 non-null  object \n",
            " 1   customerId                786363 non-null  object \n",
            " 2   creditLimit               786363 non-null  float64\n",
            " 3   availableMoney            786363 non-null  float64\n",
            " 4   transactionDateTime       786363 non-null  object \n",
            " 5   transactionAmount         786363 non-null  float64\n",
            " 6   merchantName              786363 non-null  object \n",
            " 7   acqCountry                786363 non-null  object \n",
            " 8   merchantCountryCode       786363 non-null  object \n",
            " 9   posEntryMode              786363 non-null  object \n",
            " 10  posConditionCode          786363 non-null  object \n",
            " 11  merchantCategoryCode      786363 non-null  object \n",
            " 12  currentExpDate            786363 non-null  object \n",
            " 13  accountOpenDate           786363 non-null  object \n",
            " 14  dateOfLastAddressChange   786363 non-null  object \n",
            " 15  cardCVV                   786363 non-null  object \n",
            " 16  enteredCVV                786363 non-null  object \n",
            " 17  cardLast4Digits           786363 non-null  object \n",
            " 18  transactionType           786363 non-null  object \n",
            " 19  echoBuffer                786363 non-null  object \n",
            " 20  currentBalance            786363 non-null  float64\n",
            " 21  merchantCity              786363 non-null  object \n",
            " 22  merchantState             786363 non-null  object \n",
            " 23  merchantZip               786363 non-null  object \n",
            " 24  cardPresent               786363 non-null  bool   \n",
            " 25  posOnPremises             786363 non-null  object \n",
            " 26  recurringAuthInd          786363 non-null  object \n",
            " 27  expirationDateKeyInMatch  786363 non-null  bool   \n",
            " 28  isFraud                   786363 non-null  bool   \n",
            "dtypes: bool(3), float64(4), object(22)\n",
            "memory usage: 158.2+ MB\n"
          ],
          "name": "stdout"
        }
      ]
    },
    {
      "cell_type": "markdown",
      "metadata": {
        "id": "8zmjL65rx1C8"
      },
      "source": [
        "### Null values"
      ]
    },
    {
      "cell_type": "code",
      "metadata": {
        "colab": {
          "base_uri": "https://localhost:8080/"
        },
        "id": "uiLh-xQcgL8y",
        "outputId": "2b06fb59-1c94-4ff9-e5a8-e4d69b6a3f13"
      },
      "source": [
        "df.isnull().sum()"
      ],
      "execution_count": 7,
      "outputs": [
        {
          "output_type": "execute_result",
          "data": {
            "text/plain": [
              "accountNumber               0\n",
              "customerId                  0\n",
              "creditLimit                 0\n",
              "availableMoney              0\n",
              "transactionDateTime         0\n",
              "transactionAmount           0\n",
              "merchantName                0\n",
              "acqCountry                  0\n",
              "merchantCountryCode         0\n",
              "posEntryMode                0\n",
              "posConditionCode            0\n",
              "merchantCategoryCode        0\n",
              "currentExpDate              0\n",
              "accountOpenDate             0\n",
              "dateOfLastAddressChange     0\n",
              "cardCVV                     0\n",
              "enteredCVV                  0\n",
              "cardLast4Digits             0\n",
              "transactionType             0\n",
              "echoBuffer                  0\n",
              "currentBalance              0\n",
              "merchantCity                0\n",
              "merchantState               0\n",
              "merchantZip                 0\n",
              "cardPresent                 0\n",
              "posOnPremises               0\n",
              "recurringAuthInd            0\n",
              "expirationDateKeyInMatch    0\n",
              "isFraud                     0\n",
              "dtype: int64"
            ]
          },
          "metadata": {
            "tags": []
          },
          "execution_count": 7
        }
      ]
    },
    {
      "cell_type": "markdown",
      "metadata": {
        "id": "MSOJu99Xxwfg"
      },
      "source": [
        "\n",
        "### A peek at data"
      ]
    },
    {
      "cell_type": "code",
      "metadata": {
        "colab": {
          "base_uri": "https://localhost:8080/",
          "height": 239
        },
        "id": "yuIo9dgngPfg",
        "outputId": "d7292680-a5ce-462c-e6b8-4323d389c401"
      },
      "source": [
        "df.head()"
      ],
      "execution_count": 8,
      "outputs": [
        {
          "output_type": "execute_result",
          "data": {
            "text/html": [
              "<div>\n",
              "<style scoped>\n",
              "    .dataframe tbody tr th:only-of-type {\n",
              "        vertical-align: middle;\n",
              "    }\n",
              "\n",
              "    .dataframe tbody tr th {\n",
              "        vertical-align: top;\n",
              "    }\n",
              "\n",
              "    .dataframe thead th {\n",
              "        text-align: right;\n",
              "    }\n",
              "</style>\n",
              "<table border=\"1\" class=\"dataframe\">\n",
              "  <thead>\n",
              "    <tr style=\"text-align: right;\">\n",
              "      <th></th>\n",
              "      <th>accountNumber</th>\n",
              "      <th>customerId</th>\n",
              "      <th>creditLimit</th>\n",
              "      <th>availableMoney</th>\n",
              "      <th>transactionDateTime</th>\n",
              "      <th>transactionAmount</th>\n",
              "      <th>merchantName</th>\n",
              "      <th>acqCountry</th>\n",
              "      <th>merchantCountryCode</th>\n",
              "      <th>posEntryMode</th>\n",
              "      <th>posConditionCode</th>\n",
              "      <th>merchantCategoryCode</th>\n",
              "      <th>currentExpDate</th>\n",
              "      <th>accountOpenDate</th>\n",
              "      <th>dateOfLastAddressChange</th>\n",
              "      <th>cardCVV</th>\n",
              "      <th>enteredCVV</th>\n",
              "      <th>cardLast4Digits</th>\n",
              "      <th>transactionType</th>\n",
              "      <th>echoBuffer</th>\n",
              "      <th>currentBalance</th>\n",
              "      <th>merchantCity</th>\n",
              "      <th>merchantState</th>\n",
              "      <th>merchantZip</th>\n",
              "      <th>cardPresent</th>\n",
              "      <th>posOnPremises</th>\n",
              "      <th>recurringAuthInd</th>\n",
              "      <th>expirationDateKeyInMatch</th>\n",
              "      <th>isFraud</th>\n",
              "    </tr>\n",
              "  </thead>\n",
              "  <tbody>\n",
              "    <tr>\n",
              "      <th>0</th>\n",
              "      <td>737265056</td>\n",
              "      <td>737265056</td>\n",
              "      <td>5000.0</td>\n",
              "      <td>5000.0</td>\n",
              "      <td>2016-08-13T14:27:32</td>\n",
              "      <td>98.55</td>\n",
              "      <td>Uber</td>\n",
              "      <td>US</td>\n",
              "      <td>US</td>\n",
              "      <td>02</td>\n",
              "      <td>01</td>\n",
              "      <td>rideshare</td>\n",
              "      <td>06/2023</td>\n",
              "      <td>2015-03-14</td>\n",
              "      <td>2015-03-14</td>\n",
              "      <td>414</td>\n",
              "      <td>414</td>\n",
              "      <td>1803</td>\n",
              "      <td>PURCHASE</td>\n",
              "      <td></td>\n",
              "      <td>0.0</td>\n",
              "      <td></td>\n",
              "      <td></td>\n",
              "      <td></td>\n",
              "      <td>False</td>\n",
              "      <td></td>\n",
              "      <td></td>\n",
              "      <td>False</td>\n",
              "      <td>False</td>\n",
              "    </tr>\n",
              "    <tr>\n",
              "      <th>1</th>\n",
              "      <td>737265056</td>\n",
              "      <td>737265056</td>\n",
              "      <td>5000.0</td>\n",
              "      <td>5000.0</td>\n",
              "      <td>2016-10-11T05:05:54</td>\n",
              "      <td>74.51</td>\n",
              "      <td>AMC #191138</td>\n",
              "      <td>US</td>\n",
              "      <td>US</td>\n",
              "      <td>09</td>\n",
              "      <td>01</td>\n",
              "      <td>entertainment</td>\n",
              "      <td>02/2024</td>\n",
              "      <td>2015-03-14</td>\n",
              "      <td>2015-03-14</td>\n",
              "      <td>486</td>\n",
              "      <td>486</td>\n",
              "      <td>767</td>\n",
              "      <td>PURCHASE</td>\n",
              "      <td></td>\n",
              "      <td>0.0</td>\n",
              "      <td></td>\n",
              "      <td></td>\n",
              "      <td></td>\n",
              "      <td>True</td>\n",
              "      <td></td>\n",
              "      <td></td>\n",
              "      <td>False</td>\n",
              "      <td>False</td>\n",
              "    </tr>\n",
              "    <tr>\n",
              "      <th>2</th>\n",
              "      <td>737265056</td>\n",
              "      <td>737265056</td>\n",
              "      <td>5000.0</td>\n",
              "      <td>5000.0</td>\n",
              "      <td>2016-11-08T09:18:39</td>\n",
              "      <td>7.47</td>\n",
              "      <td>Play Store</td>\n",
              "      <td>US</td>\n",
              "      <td>US</td>\n",
              "      <td>09</td>\n",
              "      <td>01</td>\n",
              "      <td>mobileapps</td>\n",
              "      <td>08/2025</td>\n",
              "      <td>2015-03-14</td>\n",
              "      <td>2015-03-14</td>\n",
              "      <td>486</td>\n",
              "      <td>486</td>\n",
              "      <td>767</td>\n",
              "      <td>PURCHASE</td>\n",
              "      <td></td>\n",
              "      <td>0.0</td>\n",
              "      <td></td>\n",
              "      <td></td>\n",
              "      <td></td>\n",
              "      <td>False</td>\n",
              "      <td></td>\n",
              "      <td></td>\n",
              "      <td>False</td>\n",
              "      <td>False</td>\n",
              "    </tr>\n",
              "    <tr>\n",
              "      <th>3</th>\n",
              "      <td>737265056</td>\n",
              "      <td>737265056</td>\n",
              "      <td>5000.0</td>\n",
              "      <td>5000.0</td>\n",
              "      <td>2016-12-10T02:14:50</td>\n",
              "      <td>7.47</td>\n",
              "      <td>Play Store</td>\n",
              "      <td>US</td>\n",
              "      <td>US</td>\n",
              "      <td>09</td>\n",
              "      <td>01</td>\n",
              "      <td>mobileapps</td>\n",
              "      <td>08/2025</td>\n",
              "      <td>2015-03-14</td>\n",
              "      <td>2015-03-14</td>\n",
              "      <td>486</td>\n",
              "      <td>486</td>\n",
              "      <td>767</td>\n",
              "      <td>PURCHASE</td>\n",
              "      <td></td>\n",
              "      <td>0.0</td>\n",
              "      <td></td>\n",
              "      <td></td>\n",
              "      <td></td>\n",
              "      <td>False</td>\n",
              "      <td></td>\n",
              "      <td></td>\n",
              "      <td>False</td>\n",
              "      <td>False</td>\n",
              "    </tr>\n",
              "    <tr>\n",
              "      <th>4</th>\n",
              "      <td>830329091</td>\n",
              "      <td>830329091</td>\n",
              "      <td>5000.0</td>\n",
              "      <td>5000.0</td>\n",
              "      <td>2016-03-24T21:04:46</td>\n",
              "      <td>71.18</td>\n",
              "      <td>Tim Hortons #947751</td>\n",
              "      <td>US</td>\n",
              "      <td>US</td>\n",
              "      <td>02</td>\n",
              "      <td>01</td>\n",
              "      <td>fastfood</td>\n",
              "      <td>10/2029</td>\n",
              "      <td>2015-08-06</td>\n",
              "      <td>2015-08-06</td>\n",
              "      <td>885</td>\n",
              "      <td>885</td>\n",
              "      <td>3143</td>\n",
              "      <td>PURCHASE</td>\n",
              "      <td></td>\n",
              "      <td>0.0</td>\n",
              "      <td></td>\n",
              "      <td></td>\n",
              "      <td></td>\n",
              "      <td>True</td>\n",
              "      <td></td>\n",
              "      <td></td>\n",
              "      <td>False</td>\n",
              "      <td>False</td>\n",
              "    </tr>\n",
              "  </tbody>\n",
              "</table>\n",
              "</div>"
            ],
            "text/plain": [
              "  accountNumber customerId  ...  expirationDateKeyInMatch  isFraud\n",
              "0     737265056  737265056  ...                     False    False\n",
              "1     737265056  737265056  ...                     False    False\n",
              "2     737265056  737265056  ...                     False    False\n",
              "3     737265056  737265056  ...                     False    False\n",
              "4     830329091  830329091  ...                     False    False\n",
              "\n",
              "[5 rows x 29 columns]"
            ]
          },
          "metadata": {
            "tags": []
          },
          "execution_count": 8
        }
      ]
    },
    {
      "cell_type": "code",
      "metadata": {
        "colab": {
          "base_uri": "https://localhost:8080/",
          "height": 294
        },
        "id": "Q6jaYKKoiMPB",
        "outputId": "62dfe001-c16c-4380-be32-6219aebc1ce9"
      },
      "source": [
        "df.describe()"
      ],
      "execution_count": 9,
      "outputs": [
        {
          "output_type": "execute_result",
          "data": {
            "text/html": [
              "<div>\n",
              "<style scoped>\n",
              "    .dataframe tbody tr th:only-of-type {\n",
              "        vertical-align: middle;\n",
              "    }\n",
              "\n",
              "    .dataframe tbody tr th {\n",
              "        vertical-align: top;\n",
              "    }\n",
              "\n",
              "    .dataframe thead th {\n",
              "        text-align: right;\n",
              "    }\n",
              "</style>\n",
              "<table border=\"1\" class=\"dataframe\">\n",
              "  <thead>\n",
              "    <tr style=\"text-align: right;\">\n",
              "      <th></th>\n",
              "      <th>creditLimit</th>\n",
              "      <th>availableMoney</th>\n",
              "      <th>transactionAmount</th>\n",
              "      <th>currentBalance</th>\n",
              "    </tr>\n",
              "  </thead>\n",
              "  <tbody>\n",
              "    <tr>\n",
              "      <th>count</th>\n",
              "      <td>786363.000000</td>\n",
              "      <td>786363.000000</td>\n",
              "      <td>786363.000000</td>\n",
              "      <td>786363.000000</td>\n",
              "    </tr>\n",
              "    <tr>\n",
              "      <th>mean</th>\n",
              "      <td>10759.464459</td>\n",
              "      <td>6250.725369</td>\n",
              "      <td>136.985791</td>\n",
              "      <td>4508.739089</td>\n",
              "    </tr>\n",
              "    <tr>\n",
              "      <th>std</th>\n",
              "      <td>11636.174890</td>\n",
              "      <td>8880.783989</td>\n",
              "      <td>147.725569</td>\n",
              "      <td>6457.442068</td>\n",
              "    </tr>\n",
              "    <tr>\n",
              "      <th>min</th>\n",
              "      <td>250.000000</td>\n",
              "      <td>-1005.630000</td>\n",
              "      <td>0.000000</td>\n",
              "      <td>0.000000</td>\n",
              "    </tr>\n",
              "    <tr>\n",
              "      <th>25%</th>\n",
              "      <td>5000.000000</td>\n",
              "      <td>1077.420000</td>\n",
              "      <td>33.650000</td>\n",
              "      <td>689.910000</td>\n",
              "    </tr>\n",
              "    <tr>\n",
              "      <th>50%</th>\n",
              "      <td>7500.000000</td>\n",
              "      <td>3184.860000</td>\n",
              "      <td>87.900000</td>\n",
              "      <td>2451.760000</td>\n",
              "    </tr>\n",
              "    <tr>\n",
              "      <th>75%</th>\n",
              "      <td>15000.000000</td>\n",
              "      <td>7500.000000</td>\n",
              "      <td>191.480000</td>\n",
              "      <td>5291.095000</td>\n",
              "    </tr>\n",
              "    <tr>\n",
              "      <th>max</th>\n",
              "      <td>50000.000000</td>\n",
              "      <td>50000.000000</td>\n",
              "      <td>2011.540000</td>\n",
              "      <td>47498.810000</td>\n",
              "    </tr>\n",
              "  </tbody>\n",
              "</table>\n",
              "</div>"
            ],
            "text/plain": [
              "         creditLimit  availableMoney  transactionAmount  currentBalance\n",
              "count  786363.000000   786363.000000      786363.000000   786363.000000\n",
              "mean    10759.464459     6250.725369         136.985791     4508.739089\n",
              "std     11636.174890     8880.783989         147.725569     6457.442068\n",
              "min       250.000000    -1005.630000           0.000000        0.000000\n",
              "25%      5000.000000     1077.420000          33.650000      689.910000\n",
              "50%      7500.000000     3184.860000          87.900000     2451.760000\n",
              "75%     15000.000000     7500.000000         191.480000     5291.095000\n",
              "max     50000.000000    50000.000000        2011.540000    47498.810000"
            ]
          },
          "metadata": {
            "tags": []
          },
          "execution_count": 9
        }
      ]
    },
    {
      "cell_type": "code",
      "metadata": {
        "colab": {
          "base_uri": "https://localhost:8080/",
          "height": 294
        },
        "id": "AbyfxJDruM2M",
        "outputId": "2ea89aa2-d7ff-445a-8a90-5827b778487e"
      },
      "source": [
        "pd.set_option('precision', 3)\n",
        "df.loc[:, ['transactionAmount']].describe()"
      ],
      "execution_count": 10,
      "outputs": [
        {
          "output_type": "execute_result",
          "data": {
            "text/html": [
              "<div>\n",
              "<style scoped>\n",
              "    .dataframe tbody tr th:only-of-type {\n",
              "        vertical-align: middle;\n",
              "    }\n",
              "\n",
              "    .dataframe tbody tr th {\n",
              "        vertical-align: top;\n",
              "    }\n",
              "\n",
              "    .dataframe thead th {\n",
              "        text-align: right;\n",
              "    }\n",
              "</style>\n",
              "<table border=\"1\" class=\"dataframe\">\n",
              "  <thead>\n",
              "    <tr style=\"text-align: right;\">\n",
              "      <th></th>\n",
              "      <th>transactionAmount</th>\n",
              "    </tr>\n",
              "  </thead>\n",
              "  <tbody>\n",
              "    <tr>\n",
              "      <th>count</th>\n",
              "      <td>786363.000</td>\n",
              "    </tr>\n",
              "    <tr>\n",
              "      <th>mean</th>\n",
              "      <td>136.986</td>\n",
              "    </tr>\n",
              "    <tr>\n",
              "      <th>std</th>\n",
              "      <td>147.726</td>\n",
              "    </tr>\n",
              "    <tr>\n",
              "      <th>min</th>\n",
              "      <td>0.000</td>\n",
              "    </tr>\n",
              "    <tr>\n",
              "      <th>25%</th>\n",
              "      <td>33.650</td>\n",
              "    </tr>\n",
              "    <tr>\n",
              "      <th>50%</th>\n",
              "      <td>87.900</td>\n",
              "    </tr>\n",
              "    <tr>\n",
              "      <th>75%</th>\n",
              "      <td>191.480</td>\n",
              "    </tr>\n",
              "    <tr>\n",
              "      <th>max</th>\n",
              "      <td>2011.540</td>\n",
              "    </tr>\n",
              "  </tbody>\n",
              "</table>\n",
              "</div>"
            ],
            "text/plain": [
              "       transactionAmount\n",
              "count         786363.000\n",
              "mean             136.986\n",
              "std              147.726\n",
              "min                0.000\n",
              "25%               33.650\n",
              "50%               87.900\n",
              "75%              191.480\n",
              "max             2011.540"
            ]
          },
          "metadata": {
            "tags": []
          },
          "execution_count": 10
        }
      ]
    },
    {
      "cell_type": "markdown",
      "metadata": {
        "id": "C8QssjGrx7Qu"
      },
      "source": [
        "### Visualization of transaction amount"
      ]
    },
    {
      "cell_type": "code",
      "metadata": {
        "colab": {
          "base_uri": "https://localhost:8080/",
          "height": 587
        },
        "id": "8ry16ECSvkyD",
        "outputId": "f5605288-9f1d-4479-bea2-1527d7746ff9"
      },
      "source": [
        "plt.figure(figsize=(10,8))\n",
        "plt.title('Distribution of Monetary Value Feature')\n",
        "sns.distplot(df.transactionAmount)"
      ],
      "execution_count": 11,
      "outputs": [
        {
          "output_type": "stream",
          "text": [
            "/usr/local/lib/python3.7/dist-packages/seaborn/distributions.py:2557: FutureWarning: `distplot` is a deprecated function and will be removed in a future version. Please adapt your code to use either `displot` (a figure-level function with similar flexibility) or `histplot` (an axes-level function for histograms).\n",
            "  warnings.warn(msg, FutureWarning)\n"
          ],
          "name": "stderr"
        },
        {
          "output_type": "execute_result",
          "data": {
            "text/plain": [
              "<matplotlib.axes._subplots.AxesSubplot at 0x7fc33df8ccd0>"
            ]
          },
          "metadata": {
            "tags": []
          },
          "execution_count": 11
        },
        {
          "output_type": "display_data",
          "data": {
            "image/png": "[encoded data removed]",
            "text/plain": [
              "<Figure size 720x576 with 1 Axes>"
            ]
          },
          "metadata": {
            "tags": []
          }
        }
      ]
    },
    {
      "cell_type": "markdown",
      "metadata": {
        "id": "lc72mUe6yELt"
      },
      "source": [
        "# Fraud vs. Normal Transactions "
      ]
    },
    {
      "cell_type": "code",
      "metadata": {
        "colab": {
          "base_uri": "https://localhost:8080/"
        },
        "id": "znYRuZMXv__b",
        "outputId": "d6415f37-46a7-4308-bcf6-d81a518ad16f"
      },
      "source": [
        "counts = df.currentBalance.value_counts()\n",
        "normal = counts[0]\n",
        "fraudulent = counts[1]\n",
        "perc_normal = (normal/(normal+fraudulent))*100\n",
        "perc_fraudulent = (fraudulent/(normal+fraudulent))*100\n",
        "print('There were {} non-fraudulent transactions ({:.3f}%) and {} fraudulent transactions ({:.3f}%).'.format(normal, perc_normal, fraudulent, perc_fraudulent))"
      ],
      "execution_count": 12,
      "outputs": [
        {
          "output_type": "stream",
          "text": [
            "There were 33678 non-fraudulent transactions (99.994%) and 2 fraudulent transactions (0.006%).\n"
          ],
          "name": "stdout"
        }
      ]
    },
    {
      "cell_type": "code",
      "metadata": {
        "colab": {
          "base_uri": "https://localhost:8080/",
          "height": 264
        },
        "id": "AJYhse1-gPUx",
        "outputId": "484794ce-0dd9-4015-c2da-1f1a43e52c7a"
      },
      "source": [
        "corr = df.corr()\n",
        "corr"
      ],
      "execution_count": 13,
      "outputs": [
        {
          "output_type": "execute_result",
          "data": {
            "text/html": [
              "<div>\n",
              "<style scoped>\n",
              "    .dataframe tbody tr th:only-of-type {\n",
              "        vertical-align: middle;\n",
              "    }\n",
              "\n",
              "    .dataframe tbody tr th {\n",
              "        vertical-align: top;\n",
              "    }\n",
              "\n",
              "    .dataframe thead th {\n",
              "        text-align: right;\n",
              "    }\n",
              "</style>\n",
              "<table border=\"1\" class=\"dataframe\">\n",
              "  <thead>\n",
              "    <tr style=\"text-align: right;\">\n",
              "      <th></th>\n",
              "      <th>creditLimit</th>\n",
              "      <th>availableMoney</th>\n",
              "      <th>transactionAmount</th>\n",
              "      <th>currentBalance</th>\n",
              "      <th>cardPresent</th>\n",
              "      <th>expirationDateKeyInMatch</th>\n",
              "      <th>isFraud</th>\n",
              "    </tr>\n",
              "  </thead>\n",
              "  <tbody>\n",
              "    <tr>\n",
              "      <th>creditLimit</th>\n",
              "      <td>1.000</td>\n",
              "      <td>0.835</td>\n",
              "      <td>0.006</td>\n",
              "      <td>0.654</td>\n",
              "      <td>-0.004</td>\n",
              "      <td>2.391e-03</td>\n",
              "      <td>3.108e-03</td>\n",
              "    </tr>\n",
              "    <tr>\n",
              "      <th>availableMoney</th>\n",
              "      <td>0.835</td>\n",
              "      <td>1.000</td>\n",
              "      <td>-0.010</td>\n",
              "      <td>0.129</td>\n",
              "      <td>0.003</td>\n",
              "      <td>4.067e-03</td>\n",
              "      <td>-1.538e-03</td>\n",
              "    </tr>\n",
              "    <tr>\n",
              "      <th>transactionAmount</th>\n",
              "      <td>0.006</td>\n",
              "      <td>-0.010</td>\n",
              "      <td>1.000</td>\n",
              "      <td>0.024</td>\n",
              "      <td>0.037</td>\n",
              "      <td>1.751e-03</td>\n",
              "      <td>7.565e-02</td>\n",
              "    </tr>\n",
              "    <tr>\n",
              "      <th>currentBalance</th>\n",
              "      <td>0.654</td>\n",
              "      <td>0.129</td>\n",
              "      <td>0.024</td>\n",
              "      <td>1.000</td>\n",
              "      <td>-0.011</td>\n",
              "      <td>-1.285e-03</td>\n",
              "      <td>7.715e-03</td>\n",
              "    </tr>\n",
              "    <tr>\n",
              "      <th>cardPresent</th>\n",
              "      <td>-0.004</td>\n",
              "      <td>0.003</td>\n",
              "      <td>0.037</td>\n",
              "      <td>-0.011</td>\n",
              "      <td>1.000</td>\n",
              "      <td>4.039e-02</td>\n",
              "      <td>-4.342e-02</td>\n",
              "    </tr>\n",
              "    <tr>\n",
              "      <th>expirationDateKeyInMatch</th>\n",
              "      <td>0.002</td>\n",
              "      <td>0.004</td>\n",
              "      <td>0.002</td>\n",
              "      <td>-0.001</td>\n",
              "      <td>0.040</td>\n",
              "      <td>1.000e+00</td>\n",
              "      <td>-9.724e-04</td>\n",
              "    </tr>\n",
              "    <tr>\n",
              "      <th>isFraud</th>\n",
              "      <td>0.003</td>\n",
              "      <td>-0.002</td>\n",
              "      <td>0.076</td>\n",
              "      <td>0.008</td>\n",
              "      <td>-0.043</td>\n",
              "      <td>-9.724e-04</td>\n",
              "      <td>1.000e+00</td>\n",
              "    </tr>\n",
              "  </tbody>\n",
              "</table>\n",
              "</div>"
            ],
            "text/plain": [
              "                          creditLimit  ...    isFraud\n",
              "creditLimit                     1.000  ...  3.108e-03\n",
              "availableMoney                  0.835  ... -1.538e-03\n",
              "transactionAmount               0.006  ...  7.565e-02\n",
              "currentBalance                  0.654  ...  7.715e-03\n",
              "cardPresent                    -0.004  ... -4.342e-02\n",
              "expirationDateKeyInMatch        0.002  ... -9.724e-04\n",
              "isFraud                         0.003  ...  1.000e+00\n",
              "\n",
              "[7 rows x 7 columns]"
            ]
          },
          "metadata": {
            "tags": []
          },
          "execution_count": 13
        }
      ]
    },
    {
      "cell_type": "markdown",
      "metadata": {
        "id": "Bt_Fdam5yM7j"
      },
      "source": [
        "### Heatmap"
      ]
    },
    {
      "cell_type": "code",
      "metadata": {
        "colab": {
          "base_uri": "https://localhost:8080/",
          "height": 748
        },
        "id": "MvyTDTv2xYSn",
        "outputId": "03ac56ac-7815-4138-85dd-6c1ed1c85838"
      },
      "source": [
        "corr = df.corr()\n",
        "plt.figure(figsize=(12,10))\n",
        "heat = sns.heatmap(data=corr)\n",
        "plt.title('Heatmap of Correlation')"
      ],
      "execution_count": 14,
      "outputs": [
        {
          "output_type": "execute_result",
          "data": {
            "text/plain": [
              "Text(0.5, 1.0, 'Heatmap of Correlation')"
            ]
          },
          "metadata": {
            "tags": []
          },
          "execution_count": 14
        },
        {
          "output_type": "display_data",
          "data": {
            "image/png": "[encoded data removed]",
            "text/plain": [
              "<Figure size 864x720 with 2 Axes>"
            ]
          },
          "metadata": {
            "tags": []
          }
        }
      ]
    },
    {
      "cell_type": "markdown",
      "metadata": {
        "id": "TzL5qHTNIRy1"
      },
      "source": [
        "### Skewness"
      ]
    },
    {
      "cell_type": "code",
      "metadata": {
        "colab": {
          "base_uri": "https://localhost:8080/"
        },
        "id": "v3b4fTgZxYL5",
        "outputId": "b676ce8c-38be-4067-bb94-40c77ec69b76"
      },
      "source": [
        "skew_ = df.skew()\n",
        "skew_"
      ],
      "execution_count": 15,
      "outputs": [
        {
          "output_type": "execute_result",
          "data": {
            "text/plain": [
              "accountNumber                0.112\n",
              "customerId                   0.112\n",
              "creditLimit                  2.280\n",
              "availableMoney               2.999\n",
              "transactionAmount            2.092\n",
              "cardCVV                      0.046\n",
              "enteredCVV                   0.046\n",
              "cardLast4Digits              0.079\n",
              "currentBalance               3.362\n",
              "cardPresent                  0.206\n",
              "expirationDateKeyInMatch    27.403\n",
              "isFraud                      7.768\n",
              "dtype: float64"
            ]
          },
          "metadata": {
            "tags": []
          },
          "execution_count": 15
        }
      ]
    },
    {
      "cell_type": "markdown",
      "metadata": {
        "id": "5spUIgwJ2wIE"
      },
      "source": [
        "### Scaling Transaction Amount"
      ]
    },
    {
      "cell_type": "code",
      "metadata": {
        "id": "A6CtOQ47xYGL"
      },
      "source": [
        "from sklearn.preprocessing import StandardScaler\n",
        "scaler = StandardScaler()\n",
        "scaler2 = StandardScaler()\n",
        "\n",
        "scaled_amount = scaler2.fit_transform(df[['transactionAmount']])\n",
        "flat_list2 = [item for sublist in scaled_amount.tolist() for item in sublist]\n",
        "scaled_amount = pd.Series(flat_list2)"
      ],
      "execution_count": 16,
      "outputs": []
    },
    {
      "cell_type": "markdown",
      "metadata": {
        "id": "MnwQ8MSi3DHF"
      },
      "source": [
        "### Concatenating newly created columns with original df"
      ]
    },
    {
      "cell_type": "code",
      "metadata": {
        "colab": {
          "base_uri": "https://localhost:8080/",
          "height": 426
        },
        "id": "8N8TnQiF1wqG",
        "outputId": "91af42f8-3e76-4c9a-da9a-b284eff80e62"
      },
      "source": [
        "df = pd.concat([df, scaled_amount.rename('scaled_amount')], axis=1)\n",
        "df.sample(10)"
      ],
      "execution_count": 17,
      "outputs": [
        {
          "output_type": "execute_result",
          "data": {
            "text/html": [
              "<div>\n",
              "<style scoped>\n",
              "    .dataframe tbody tr th:only-of-type {\n",
              "        vertical-align: middle;\n",
              "    }\n",
              "\n",
              "    .dataframe tbody tr th {\n",
              "        vertical-align: top;\n",
              "    }\n",
              "\n",
              "    .dataframe thead th {\n",
              "        text-align: right;\n",
              "    }\n",
              "</style>\n",
              "<table border=\"1\" class=\"dataframe\">\n",
              "  <thead>\n",
              "    <tr style=\"text-align: right;\">\n",
              "      <th></th>\n",
              "      <th>accountNumber</th>\n",
              "      <th>customerId</th>\n",
              "      <th>creditLimit</th>\n",
              "      <th>availableMoney</th>\n",
              "      <th>transactionDateTime</th>\n",
              "      <th>transactionAmount</th>\n",
              "      <th>merchantName</th>\n",
              "      <th>acqCountry</th>\n",
              "      <th>merchantCountryCode</th>\n",
              "      <th>posEntryMode</th>\n",
              "      <th>posConditionCode</th>\n",
              "      <th>merchantCategoryCode</th>\n",
              "      <th>currentExpDate</th>\n",
              "      <th>accountOpenDate</th>\n",
              "      <th>dateOfLastAddressChange</th>\n",
              "      <th>cardCVV</th>\n",
              "      <th>enteredCVV</th>\n",
              "      <th>cardLast4Digits</th>\n",
              "      <th>transactionType</th>\n",
              "      <th>echoBuffer</th>\n",
              "      <th>currentBalance</th>\n",
              "      <th>merchantCity</th>\n",
              "      <th>merchantState</th>\n",
              "      <th>merchantZip</th>\n",
              "      <th>cardPresent</th>\n",
              "      <th>posOnPremises</th>\n",
              "      <th>recurringAuthInd</th>\n",
              "      <th>expirationDateKeyInMatch</th>\n",
              "      <th>isFraud</th>\n",
              "      <th>scaled_amount</th>\n",
              "    </tr>\n",
              "  </thead>\n",
              "  <tbody>\n",
              "    <tr>\n",
              "      <th>677028</th>\n",
              "      <td>871734327</td>\n",
              "      <td>871734327</td>\n",
              "      <td>7500.0</td>\n",
              "      <td>3529.84</td>\n",
              "      <td>2016-07-23T16:29:33</td>\n",
              "      <td>2.99</td>\n",
              "      <td>ebay.com</td>\n",
              "      <td>US</td>\n",
              "      <td>US</td>\n",
              "      <td>05</td>\n",
              "      <td>08</td>\n",
              "      <td>online_retail</td>\n",
              "      <td>05/2021</td>\n",
              "      <td>2011-11-11</td>\n",
              "      <td>2016-03-13</td>\n",
              "      <td>293</td>\n",
              "      <td>293</td>\n",
              "      <td>2207</td>\n",
              "      <td>REVERSAL</td>\n",
              "      <td></td>\n",
              "      <td>3970.16</td>\n",
              "      <td></td>\n",
              "      <td></td>\n",
              "      <td></td>\n",
              "      <td>False</td>\n",
              "      <td></td>\n",
              "      <td></td>\n",
              "      <td>False</td>\n",
              "      <td>False</td>\n",
              "      <td>-0.907</td>\n",
              "    </tr>\n",
              "    <tr>\n",
              "      <th>731011</th>\n",
              "      <td>839863227</td>\n",
              "      <td>839863227</td>\n",
              "      <td>5000.0</td>\n",
              "      <td>1252.57</td>\n",
              "      <td>2016-05-10T23:02:21</td>\n",
              "      <td>955.42</td>\n",
              "      <td>Best Pub</td>\n",
              "      <td>US</td>\n",
              "      <td>US</td>\n",
              "      <td>09</td>\n",
              "      <td>01</td>\n",
              "      <td>food</td>\n",
              "      <td>04/2021</td>\n",
              "      <td>2008-08-16</td>\n",
              "      <td>2008-08-16</td>\n",
              "      <td>323</td>\n",
              "      <td>323</td>\n",
              "      <td>1494</td>\n",
              "      <td>PURCHASE</td>\n",
              "      <td></td>\n",
              "      <td>3747.43</td>\n",
              "      <td></td>\n",
              "      <td></td>\n",
              "      <td></td>\n",
              "      <td>True</td>\n",
              "      <td></td>\n",
              "      <td></td>\n",
              "      <td>False</td>\n",
              "      <td>False</td>\n",
              "      <td>5.540</td>\n",
              "    </tr>\n",
              "    <tr>\n",
              "      <th>498292</th>\n",
              "      <td>171684236</td>\n",
              "      <td>171684236</td>\n",
              "      <td>5000.0</td>\n",
              "      <td>986.91</td>\n",
              "      <td>2016-12-04T18:01:40</td>\n",
              "      <td>161.91</td>\n",
              "      <td>Rodeway Inn #874370</td>\n",
              "      <td>US</td>\n",
              "      <td>US</td>\n",
              "      <td>09</td>\n",
              "      <td>01</td>\n",
              "      <td>hotels</td>\n",
              "      <td>10/2026</td>\n",
              "      <td>2014-12-07</td>\n",
              "      <td>2016-11-15</td>\n",
              "      <td>723</td>\n",
              "      <td>723</td>\n",
              "      <td>1579</td>\n",
              "      <td>PURCHASE</td>\n",
              "      <td></td>\n",
              "      <td>4013.09</td>\n",
              "      <td></td>\n",
              "      <td></td>\n",
              "      <td></td>\n",
              "      <td>True</td>\n",
              "      <td></td>\n",
              "      <td></td>\n",
              "      <td>False</td>\n",
              "      <td>False</td>\n",
              "      <td>0.169</td>\n",
              "    </tr>\n",
              "    <tr>\n",
              "      <th>708233</th>\n",
              "      <td>699894252</td>\n",
              "      <td>699894252</td>\n",
              "      <td>2500.0</td>\n",
              "      <td>228.63</td>\n",
              "      <td>2016-04-23T14:25:53</td>\n",
              "      <td>7.68</td>\n",
              "      <td>apple.com</td>\n",
              "      <td>US</td>\n",
              "      <td>US</td>\n",
              "      <td>05</td>\n",
              "      <td>01</td>\n",
              "      <td>online_retail</td>\n",
              "      <td>02/2031</td>\n",
              "      <td>2014-11-27</td>\n",
              "      <td>2016-02-10</td>\n",
              "      <td>933</td>\n",
              "      <td>933</td>\n",
              "      <td>5758</td>\n",
              "      <td>PURCHASE</td>\n",
              "      <td></td>\n",
              "      <td>2271.37</td>\n",
              "      <td></td>\n",
              "      <td></td>\n",
              "      <td></td>\n",
              "      <td>False</td>\n",
              "      <td></td>\n",
              "      <td></td>\n",
              "      <td>False</td>\n",
              "      <td>False</td>\n",
              "      <td>-0.875</td>\n",
              "    </tr>\n",
              "    <tr>\n",
              "      <th>488085</th>\n",
              "      <td>441721980</td>\n",
              "      <td>441721980</td>\n",
              "      <td>500.0</td>\n",
              "      <td>500.00</td>\n",
              "      <td>2016-12-21T13:53:18</td>\n",
              "      <td>307.70</td>\n",
              "      <td>discount.com</td>\n",
              "      <td>US</td>\n",
              "      <td>US</td>\n",
              "      <td>05</td>\n",
              "      <td>01</td>\n",
              "      <td>online_retail</td>\n",
              "      <td>07/2025</td>\n",
              "      <td>2012-10-17</td>\n",
              "      <td>2016-03-21</td>\n",
              "      <td>654</td>\n",
              "      <td>654</td>\n",
              "      <td>8354</td>\n",
              "      <td>PURCHASE</td>\n",
              "      <td></td>\n",
              "      <td>0.00</td>\n",
              "      <td></td>\n",
              "      <td></td>\n",
              "      <td></td>\n",
              "      <td>False</td>\n",
              "      <td></td>\n",
              "      <td></td>\n",
              "      <td>False</td>\n",
              "      <td>False</td>\n",
              "      <td>1.156</td>\n",
              "    </tr>\n",
              "    <tr>\n",
              "      <th>524227</th>\n",
              "      <td>967690618</td>\n",
              "      <td>967690618</td>\n",
              "      <td>10000.0</td>\n",
              "      <td>9403.82</td>\n",
              "      <td>2016-03-14T18:59:17</td>\n",
              "      <td>63.97</td>\n",
              "      <td>Mobil Gas #851671</td>\n",
              "      <td>US</td>\n",
              "      <td>US</td>\n",
              "      <td>05</td>\n",
              "      <td>01</td>\n",
              "      <td>fuel</td>\n",
              "      <td>04/2023</td>\n",
              "      <td>2014-05-25</td>\n",
              "      <td>2014-05-25</td>\n",
              "      <td>697</td>\n",
              "      <td>697</td>\n",
              "      <td>7978</td>\n",
              "      <td>PURCHASE</td>\n",
              "      <td></td>\n",
              "      <td>596.18</td>\n",
              "      <td></td>\n",
              "      <td></td>\n",
              "      <td></td>\n",
              "      <td>True</td>\n",
              "      <td></td>\n",
              "      <td></td>\n",
              "      <td>False</td>\n",
              "      <td>False</td>\n",
              "      <td>-0.494</td>\n",
              "    </tr>\n",
              "    <tr>\n",
              "      <th>382530</th>\n",
              "      <td>828981768</td>\n",
              "      <td>828981768</td>\n",
              "      <td>2500.0</td>\n",
              "      <td>506.76</td>\n",
              "      <td>2016-08-12T06:26:56</td>\n",
              "      <td>78.87</td>\n",
              "      <td>Dinosaur Drive in</td>\n",
              "      <td>US</td>\n",
              "      <td>US</td>\n",
              "      <td>05</td>\n",
              "      <td>01</td>\n",
              "      <td>food</td>\n",
              "      <td>06/2021</td>\n",
              "      <td>2014-01-31</td>\n",
              "      <td>2016-07-29</td>\n",
              "      <td>261</td>\n",
              "      <td>261</td>\n",
              "      <td>5804</td>\n",
              "      <td>PURCHASE</td>\n",
              "      <td></td>\n",
              "      <td>1993.24</td>\n",
              "      <td></td>\n",
              "      <td></td>\n",
              "      <td></td>\n",
              "      <td>True</td>\n",
              "      <td></td>\n",
              "      <td></td>\n",
              "      <td>False</td>\n",
              "      <td>False</td>\n",
              "      <td>-0.393</td>\n",
              "    </tr>\n",
              "    <tr>\n",
              "      <th>534579</th>\n",
              "      <td>208319653</td>\n",
              "      <td>208319653</td>\n",
              "      <td>15000.0</td>\n",
              "      <td>4865.02</td>\n",
              "      <td>2016-04-02T02:49:36</td>\n",
              "      <td>253.57</td>\n",
              "      <td>Shell Tire</td>\n",
              "      <td>US</td>\n",
              "      <td>US</td>\n",
              "      <td>02</td>\n",
              "      <td>08</td>\n",
              "      <td>auto</td>\n",
              "      <td>09/2030</td>\n",
              "      <td>2015-03-17</td>\n",
              "      <td>2016-03-01</td>\n",
              "      <td>548</td>\n",
              "      <td>548</td>\n",
              "      <td>7629</td>\n",
              "      <td>PURCHASE</td>\n",
              "      <td></td>\n",
              "      <td>10134.98</td>\n",
              "      <td></td>\n",
              "      <td></td>\n",
              "      <td></td>\n",
              "      <td>False</td>\n",
              "      <td></td>\n",
              "      <td></td>\n",
              "      <td>False</td>\n",
              "      <td>False</td>\n",
              "      <td>0.789</td>\n",
              "    </tr>\n",
              "    <tr>\n",
              "      <th>710897</th>\n",
              "      <td>864716575</td>\n",
              "      <td>864716575</td>\n",
              "      <td>2500.0</td>\n",
              "      <td>356.31</td>\n",
              "      <td>2016-01-28T17:52:27</td>\n",
              "      <td>36.93</td>\n",
              "      <td>AMC #606218</td>\n",
              "      <td>US</td>\n",
              "      <td>US</td>\n",
              "      <td>05</td>\n",
              "      <td>01</td>\n",
              "      <td>entertainment</td>\n",
              "      <td>03/2029</td>\n",
              "      <td>2014-12-27</td>\n",
              "      <td>2014-12-27</td>\n",
              "      <td>891</td>\n",
              "      <td>891</td>\n",
              "      <td>5742</td>\n",
              "      <td>PURCHASE</td>\n",
              "      <td></td>\n",
              "      <td>2143.69</td>\n",
              "      <td></td>\n",
              "      <td></td>\n",
              "      <td></td>\n",
              "      <td>False</td>\n",
              "      <td></td>\n",
              "      <td></td>\n",
              "      <td>False</td>\n",
              "      <td>False</td>\n",
              "      <td>-0.677</td>\n",
              "    </tr>\n",
              "    <tr>\n",
              "      <th>781723</th>\n",
              "      <td>357985585</td>\n",
              "      <td>357985585</td>\n",
              "      <td>250.0</td>\n",
              "      <td>63.81</td>\n",
              "      <td>2016-03-14T13:10:54</td>\n",
              "      <td>140.42</td>\n",
              "      <td>Virgin Airlines</td>\n",
              "      <td>US</td>\n",
              "      <td>US</td>\n",
              "      <td>02</td>\n",
              "      <td>08</td>\n",
              "      <td>airline</td>\n",
              "      <td>08/2027</td>\n",
              "      <td>2015-06-28</td>\n",
              "      <td>2016-03-05</td>\n",
              "      <td>250</td>\n",
              "      <td>250</td>\n",
              "      <td>6441</td>\n",
              "      <td>PURCHASE</td>\n",
              "      <td></td>\n",
              "      <td>186.19</td>\n",
              "      <td></td>\n",
              "      <td></td>\n",
              "      <td></td>\n",
              "      <td>False</td>\n",
              "      <td></td>\n",
              "      <td></td>\n",
              "      <td>False</td>\n",
              "      <td>False</td>\n",
              "      <td>0.023</td>\n",
              "    </tr>\n",
              "  </tbody>\n",
              "</table>\n",
              "</div>"
            ],
            "text/plain": [
              "       accountNumber customerId  ...  isFraud  scaled_amount\n",
              "677028     871734327  871734327  ...    False         -0.907\n",
              "731011     839863227  839863227  ...    False          5.540\n",
              "498292     171684236  171684236  ...    False          0.169\n",
              "708233     699894252  699894252  ...    False         -0.875\n",
              "488085     441721980  441721980  ...    False          1.156\n",
              "524227     967690618  967690618  ...    False         -0.494\n",
              "382530     828981768  828981768  ...    False         -0.393\n",
              "534579     208319653  208319653  ...    False          0.789\n",
              "710897     864716575  864716575  ...    False         -0.677\n",
              "781723     357985585  357985585  ...    False          0.023\n",
              "\n",
              "[10 rows x 30 columns]"
            ]
          },
          "metadata": {
            "tags": []
          },
          "execution_count": 17
        }
      ]
    },
    {
      "cell_type": "markdown",
      "metadata": {
        "id": "G5y9DyCOIcaI"
      },
      "source": [
        "### Dropping old amount and time columns"
      ]
    },
    {
      "cell_type": "code",
      "metadata": {
        "id": "UnRts8y01wng"
      },
      "source": [
        "df.drop(['transactionAmount','transactionDateTime'], axis=1, inplace=True)"
      ],
      "execution_count": 18,
      "outputs": []
    },
    {
      "cell_type": "markdown",
      "metadata": {
        "id": "BKl99jlY3Kaz"
      },
      "source": [
        "# Splitting of the dataset"
      ]
    },
    {
      "cell_type": "code",
      "metadata": {
        "colab": {
          "base_uri": "https://localhost:8080/"
        },
        "id": "pxsvgF4w1wih",
        "outputId": "e6783245-9a16-40bb-8dbd-f5fa0cb35d88"
      },
      "source": [
        "mask = np.random.rand(len(df)) < 0.9\n",
        "train = df[mask]\n",
        "test = df[~mask]\n",
        "print('Train Shape: {}\\nTest Shape: {}'.format(train.shape, test.shape))"
      ],
      "execution_count": 19,
      "outputs": [
        {
          "output_type": "stream",
          "text": [
            "Train Shape: (708032, 28)\n",
            "Test Shape: (78331, 28)\n"
          ],
          "name": "stdout"
        }
      ]
    },
    {
      "cell_type": "code",
      "metadata": {
        "id": "waAWShDX1weR"
      },
      "source": [
        "train.reset_index(drop=True, inplace=True)\n",
        "test.reset_index(drop=True, inplace=True)"
      ],
      "execution_count": 20,
      "outputs": []
    },
    {
      "cell_type": "markdown",
      "metadata": {
        "id": "bn2zr6LsIuXc"
      },
      "source": [
        "### Subsample data set with balanced class distributions"
      ]
    },
    {
      "cell_type": "code",
      "metadata": {
        "colab": {
          "base_uri": "https://localhost:8080/"
        },
        "id": "XIGrmMBV1wbT",
        "outputId": "99587a0f-a138-4e1a-a9d2-42edaf340522"
      },
      "source": [
        "no_of_frauds = train.currentBalance.value_counts()[1]\n",
        "print('There are {} fraudulent transactions in the train data.'.format(no_of_frauds))"
      ],
      "execution_count": 21,
      "outputs": [
        {
          "output_type": "stream",
          "text": [
            "There are 2 fraudulent transactions in the train data.\n"
          ],
          "name": "stdout"
        }
      ]
    },
    {
      "cell_type": "code",
      "metadata": {
        "id": "LOKKlMDw3RFE"
      },
      "source": [
        "non_fraud = train[train['currentBalance'] == 0]\n",
        "fraud = train[train['currentBalance'] == 1]"
      ],
      "execution_count": 22,
      "outputs": []
    },
    {
      "cell_type": "code",
      "metadata": {
        "colab": {
          "base_uri": "https://localhost:8080/",
          "height": 164
        },
        "id": "XMFS3HWV3Rc7",
        "outputId": "19700873-53fb-4b6b-b384-69c92811aef0"
      },
      "source": [
        "selected = non_fraud.sample(no_of_frauds)\n",
        "selected.head()"
      ],
      "execution_count": 23,
      "outputs": [
        {
          "output_type": "execute_result",
          "data": {
            "text/html": [
              "<div>\n",
              "<style scoped>\n",
              "    .dataframe tbody tr th:only-of-type {\n",
              "        vertical-align: middle;\n",
              "    }\n",
              "\n",
              "    .dataframe tbody tr th {\n",
              "        vertical-align: top;\n",
              "    }\n",
              "\n",
              "    .dataframe thead th {\n",
              "        text-align: right;\n",
              "    }\n",
              "</style>\n",
              "<table border=\"1\" class=\"dataframe\">\n",
              "  <thead>\n",
              "    <tr style=\"text-align: right;\">\n",
              "      <th></th>\n",
              "      <th>accountNumber</th>\n",
              "      <th>customerId</th>\n",
              "      <th>creditLimit</th>\n",
              "      <th>availableMoney</th>\n",
              "      <th>merchantName</th>\n",
              "      <th>acqCountry</th>\n",
              "      <th>merchantCountryCode</th>\n",
              "      <th>posEntryMode</th>\n",
              "      <th>posConditionCode</th>\n",
              "      <th>merchantCategoryCode</th>\n",
              "      <th>currentExpDate</th>\n",
              "      <th>accountOpenDate</th>\n",
              "      <th>dateOfLastAddressChange</th>\n",
              "      <th>cardCVV</th>\n",
              "      <th>enteredCVV</th>\n",
              "      <th>cardLast4Digits</th>\n",
              "      <th>transactionType</th>\n",
              "      <th>echoBuffer</th>\n",
              "      <th>currentBalance</th>\n",
              "      <th>merchantCity</th>\n",
              "      <th>merchantState</th>\n",
              "      <th>merchantZip</th>\n",
              "      <th>cardPresent</th>\n",
              "      <th>posOnPremises</th>\n",
              "      <th>recurringAuthInd</th>\n",
              "      <th>expirationDateKeyInMatch</th>\n",
              "      <th>isFraud</th>\n",
              "      <th>scaled_amount</th>\n",
              "    </tr>\n",
              "  </thead>\n",
              "  <tbody>\n",
              "    <tr>\n",
              "      <th>130594</th>\n",
              "      <td>759046253</td>\n",
              "      <td>759046253</td>\n",
              "      <td>250.0</td>\n",
              "      <td>250.0</td>\n",
              "      <td>Play Store</td>\n",
              "      <td>US</td>\n",
              "      <td>US</td>\n",
              "      <td>05</td>\n",
              "      <td>01</td>\n",
              "      <td>mobileapps</td>\n",
              "      <td>12/2020</td>\n",
              "      <td>2013-05-13</td>\n",
              "      <td>2013-05-13</td>\n",
              "      <td>939</td>\n",
              "      <td>939</td>\n",
              "      <td>9892</td>\n",
              "      <td>PURCHASE</td>\n",
              "      <td></td>\n",
              "      <td>0.0</td>\n",
              "      <td></td>\n",
              "      <td></td>\n",
              "      <td></td>\n",
              "      <td>False</td>\n",
              "      <td></td>\n",
              "      <td></td>\n",
              "      <td>False</td>\n",
              "      <td>False</td>\n",
              "      <td>-0.899</td>\n",
              "    </tr>\n",
              "    <tr>\n",
              "      <th>14712</th>\n",
              "      <td>897492259</td>\n",
              "      <td>897492259</td>\n",
              "      <td>15000.0</td>\n",
              "      <td>15000.0</td>\n",
              "      <td>Universe Massage #178284</td>\n",
              "      <td>US</td>\n",
              "      <td>US</td>\n",
              "      <td>02</td>\n",
              "      <td>08</td>\n",
              "      <td>personal care</td>\n",
              "      <td>12/2026</td>\n",
              "      <td>2014-01-23</td>\n",
              "      <td>2014-01-23</td>\n",
              "      <td>953</td>\n",
              "      <td>953</td>\n",
              "      <td>2098</td>\n",
              "      <td>PURCHASE</td>\n",
              "      <td></td>\n",
              "      <td>0.0</td>\n",
              "      <td></td>\n",
              "      <td></td>\n",
              "      <td></td>\n",
              "      <td>True</td>\n",
              "      <td></td>\n",
              "      <td></td>\n",
              "      <td>False</td>\n",
              "      <td>False</td>\n",
              "      <td>-0.647</td>\n",
              "    </tr>\n",
              "  </tbody>\n",
              "</table>\n",
              "</div>"
            ],
            "text/plain": [
              "       accountNumber customerId  ...  isFraud  scaled_amount\n",
              "130594     759046253  759046253  ...    False         -0.899\n",
              "14712      897492259  897492259  ...    False         -0.647\n",
              "\n",
              "[2 rows x 28 columns]"
            ]
          },
          "metadata": {
            "tags": []
          },
          "execution_count": 23
        }
      ]
    },
    {
      "cell_type": "markdown",
      "metadata": {
        "id": "dUyi4k5jI7kF"
      },
      "source": [
        "### Concatenating both into a subsample data set with equal class distribution"
      ]
    },
    {
      "cell_type": "code",
      "metadata": {
        "colab": {
          "base_uri": "https://localhost:8080/"
        },
        "id": "mibDxPJQ3Ruj",
        "outputId": "46c28228-cf0b-49ce-fcce-9d3555b9e29e"
      },
      "source": [
        "selected.reset_index(drop=True, inplace=True)\n",
        "fraud.reset_index(drop=True, inplace=True)\n",
        "subsample = pd.concat([selected, fraud])\n",
        "len(subsample)"
      ],
      "execution_count": 24,
      "outputs": [
        {
          "output_type": "execute_result",
          "data": {
            "text/plain": [
              "4"
            ]
          },
          "metadata": {
            "tags": []
          },
          "execution_count": 24
        }
      ]
    },
    {
      "cell_type": "code",
      "metadata": {
        "colab": {
          "base_uri": "https://localhost:8080/",
          "height": 225
        },
        "id": "ZfhM6oiM3uEs",
        "outputId": "f6d0bfa7-48f9-4ed4-efc4-9592b8780e0c"
      },
      "source": [
        "subsample = subsample.sample(frac=1).reset_index(drop=True)\n",
        "subsample.head(5)"
      ],
      "execution_count": 25,
      "outputs": [
        {
          "output_type": "execute_result",
          "data": {
            "text/html": [
              "<div>\n",
              "<style scoped>\n",
              "    .dataframe tbody tr th:only-of-type {\n",
              "        vertical-align: middle;\n",
              "    }\n",
              "\n",
              "    .dataframe tbody tr th {\n",
              "        vertical-align: top;\n",
              "    }\n",
              "\n",
              "    .dataframe thead th {\n",
              "        text-align: right;\n",
              "    }\n",
              "</style>\n",
              "<table border=\"1\" class=\"dataframe\">\n",
              "  <thead>\n",
              "    <tr style=\"text-align: right;\">\n",
              "      <th></th>\n",
              "      <th>accountNumber</th>\n",
              "      <th>customerId</th>\n",
              "      <th>creditLimit</th>\n",
              "      <th>availableMoney</th>\n",
              "      <th>merchantName</th>\n",
              "      <th>acqCountry</th>\n",
              "      <th>merchantCountryCode</th>\n",
              "      <th>posEntryMode</th>\n",
              "      <th>posConditionCode</th>\n",
              "      <th>merchantCategoryCode</th>\n",
              "      <th>currentExpDate</th>\n",
              "      <th>accountOpenDate</th>\n",
              "      <th>dateOfLastAddressChange</th>\n",
              "      <th>cardCVV</th>\n",
              "      <th>enteredCVV</th>\n",
              "      <th>cardLast4Digits</th>\n",
              "      <th>transactionType</th>\n",
              "      <th>echoBuffer</th>\n",
              "      <th>currentBalance</th>\n",
              "      <th>merchantCity</th>\n",
              "      <th>merchantState</th>\n",
              "      <th>merchantZip</th>\n",
              "      <th>cardPresent</th>\n",
              "      <th>posOnPremises</th>\n",
              "      <th>recurringAuthInd</th>\n",
              "      <th>expirationDateKeyInMatch</th>\n",
              "      <th>isFraud</th>\n",
              "      <th>scaled_amount</th>\n",
              "    </tr>\n",
              "  </thead>\n",
              "  <tbody>\n",
              "    <tr>\n",
              "      <th>0</th>\n",
              "      <td>759046253</td>\n",
              "      <td>759046253</td>\n",
              "      <td>250.0</td>\n",
              "      <td>250.0</td>\n",
              "      <td>Play Store</td>\n",
              "      <td>US</td>\n",
              "      <td>US</td>\n",
              "      <td>05</td>\n",
              "      <td>01</td>\n",
              "      <td>mobileapps</td>\n",
              "      <td>12/2020</td>\n",
              "      <td>2013-05-13</td>\n",
              "      <td>2013-05-13</td>\n",
              "      <td>939</td>\n",
              "      <td>939</td>\n",
              "      <td>9892</td>\n",
              "      <td>PURCHASE</td>\n",
              "      <td></td>\n",
              "      <td>0.0</td>\n",
              "      <td></td>\n",
              "      <td></td>\n",
              "      <td></td>\n",
              "      <td>False</td>\n",
              "      <td></td>\n",
              "      <td></td>\n",
              "      <td>False</td>\n",
              "      <td>False</td>\n",
              "      <td>-0.899</td>\n",
              "    </tr>\n",
              "    <tr>\n",
              "      <th>1</th>\n",
              "      <td>330933081</td>\n",
              "      <td>330933081</td>\n",
              "      <td>250.0</td>\n",
              "      <td>249.0</td>\n",
              "      <td>amazon.com</td>\n",
              "      <td>US</td>\n",
              "      <td>US</td>\n",
              "      <td>09</td>\n",
              "      <td>01</td>\n",
              "      <td>online_retail</td>\n",
              "      <td>03/2021</td>\n",
              "      <td>2014-10-26</td>\n",
              "      <td>2016-07-27</td>\n",
              "      <td>246</td>\n",
              "      <td>246</td>\n",
              "      <td>1120</td>\n",
              "      <td>PURCHASE</td>\n",
              "      <td></td>\n",
              "      <td>1.0</td>\n",
              "      <td></td>\n",
              "      <td></td>\n",
              "      <td></td>\n",
              "      <td>False</td>\n",
              "      <td></td>\n",
              "      <td></td>\n",
              "      <td>False</td>\n",
              "      <td>False</td>\n",
              "      <td>-0.300</td>\n",
              "    </tr>\n",
              "    <tr>\n",
              "      <th>2</th>\n",
              "      <td>897492259</td>\n",
              "      <td>897492259</td>\n",
              "      <td>15000.0</td>\n",
              "      <td>15000.0</td>\n",
              "      <td>Universe Massage #178284</td>\n",
              "      <td>US</td>\n",
              "      <td>US</td>\n",
              "      <td>02</td>\n",
              "      <td>08</td>\n",
              "      <td>personal care</td>\n",
              "      <td>12/2026</td>\n",
              "      <td>2014-01-23</td>\n",
              "      <td>2014-01-23</td>\n",
              "      <td>953</td>\n",
              "      <td>953</td>\n",
              "      <td>2098</td>\n",
              "      <td>PURCHASE</td>\n",
              "      <td></td>\n",
              "      <td>0.0</td>\n",
              "      <td></td>\n",
              "      <td></td>\n",
              "      <td></td>\n",
              "      <td>True</td>\n",
              "      <td></td>\n",
              "      <td></td>\n",
              "      <td>False</td>\n",
              "      <td>False</td>\n",
              "      <td>-0.647</td>\n",
              "    </tr>\n",
              "    <tr>\n",
              "      <th>3</th>\n",
              "      <td>620483081</td>\n",
              "      <td>620483081</td>\n",
              "      <td>5000.0</td>\n",
              "      <td>4999.0</td>\n",
              "      <td>oldnavy.com</td>\n",
              "      <td>US</td>\n",
              "      <td>US</td>\n",
              "      <td>09</td>\n",
              "      <td>01</td>\n",
              "      <td>online_retail</td>\n",
              "      <td>10/2032</td>\n",
              "      <td>2012-02-17</td>\n",
              "      <td>2016-09-12</td>\n",
              "      <td>694</td>\n",
              "      <td>694</td>\n",
              "      <td>6226</td>\n",
              "      <td>PURCHASE</td>\n",
              "      <td></td>\n",
              "      <td>1.0</td>\n",
              "      <td></td>\n",
              "      <td></td>\n",
              "      <td></td>\n",
              "      <td>False</td>\n",
              "      <td></td>\n",
              "      <td></td>\n",
              "      <td>False</td>\n",
              "      <td>False</td>\n",
              "      <td>-0.415</td>\n",
              "    </tr>\n",
              "  </tbody>\n",
              "</table>\n",
              "</div>"
            ],
            "text/plain": [
              "  accountNumber customerId  ...  isFraud  scaled_amount\n",
              "0     759046253  759046253  ...    False         -0.899\n",
              "1     330933081  330933081  ...    False         -0.300\n",
              "2     897492259  897492259  ...    False         -0.647\n",
              "3     620483081  620483081  ...    False         -0.415\n",
              "\n",
              "[4 rows x 28 columns]"
            ]
          },
          "metadata": {
            "tags": []
          },
          "execution_count": 25
        }
      ]
    },
    {
      "cell_type": "code",
      "metadata": {
        "colab": {
          "base_uri": "https://localhost:8080/",
          "height": 425
        },
        "id": "JPkp465h3udE",
        "outputId": "7df52df7-4d50-47ea-fea4-572dad8aa7e9"
      },
      "source": [
        "new_counts = subsample.currentBalance.value_counts()\n",
        "plt.figure(figsize=(8,6))\n",
        "sns.barplot(x=new_counts.index, y=new_counts)\n",
        "plt.title('Count of Fraudulent vs. Non-Fraudulent Transactions In Subsample')\n",
        "plt.ylabel('Count')\n",
        "plt.xlabel('Class (0:Non-Fraudulent, 1:Fraudulent)')"
      ],
      "execution_count": 26,
      "outputs": [
        {
          "output_type": "execute_result",
          "data": {
            "text/plain": [
              "Text(0.5, 0, 'Class (0:Non-Fraudulent, 1:Fraudulent)')"
            ]
          },
          "metadata": {
            "tags": []
          },
          "execution_count": 26
        },
        {
          "output_type": "display_data",
          "data": {
            "image/png": "[encoded data removed]",
            "text/plain": [
              "<Figure size 576x432 with 1 Axes>"
            ]
          },
          "metadata": {
            "tags": []
          }
        }
      ]
    },
    {
      "cell_type": "code",
      "metadata": {
        "colab": {
          "base_uri": "https://localhost:8080/",
          "height": 264
        },
        "id": "skW3J3e63upz",
        "outputId": "e59a3009-fee8-49e6-d46e-acd3e111403b"
      },
      "source": [
        "corr = subsample.corr()\n",
        "corr = corr[['currentBalance']]\n",
        "corr"
      ],
      "execution_count": 27,
      "outputs": [
        {
          "output_type": "execute_result",
          "data": {
            "text/html": [
              "<div>\n",
              "<style scoped>\n",
              "    .dataframe tbody tr th:only-of-type {\n",
              "        vertical-align: middle;\n",
              "    }\n",
              "\n",
              "    .dataframe tbody tr th {\n",
              "        vertical-align: top;\n",
              "    }\n",
              "\n",
              "    .dataframe thead th {\n",
              "        text-align: right;\n",
              "    }\n",
              "</style>\n",
              "<table border=\"1\" class=\"dataframe\">\n",
              "  <thead>\n",
              "    <tr style=\"text-align: right;\">\n",
              "      <th></th>\n",
              "      <th>currentBalance</th>\n",
              "    </tr>\n",
              "  </thead>\n",
              "  <tbody>\n",
              "    <tr>\n",
              "      <th>creditLimit</th>\n",
              "      <td>-0.415</td>\n",
              "    </tr>\n",
              "    <tr>\n",
              "      <th>availableMoney</th>\n",
              "      <td>-0.415</td>\n",
              "    </tr>\n",
              "    <tr>\n",
              "      <th>currentBalance</th>\n",
              "      <td>1.000</td>\n",
              "    </tr>\n",
              "    <tr>\n",
              "      <th>cardPresent</th>\n",
              "      <td>-0.577</td>\n",
              "    </tr>\n",
              "    <tr>\n",
              "      <th>expirationDateKeyInMatch</th>\n",
              "      <td>NaN</td>\n",
              "    </tr>\n",
              "    <tr>\n",
              "      <th>isFraud</th>\n",
              "      <td>NaN</td>\n",
              "    </tr>\n",
              "    <tr>\n",
              "      <th>scaled_amount</th>\n",
              "      <td>0.905</td>\n",
              "    </tr>\n",
              "  </tbody>\n",
              "</table>\n",
              "</div>"
            ],
            "text/plain": [
              "                          currentBalance\n",
              "creditLimit                       -0.415\n",
              "availableMoney                    -0.415\n",
              "currentBalance                     1.000\n",
              "cardPresent                       -0.577\n",
              "expirationDateKeyInMatch             NaN\n",
              "isFraud                              NaN\n",
              "scaled_amount                      0.905"
            ]
          },
          "metadata": {
            "tags": []
          },
          "execution_count": 27
        }
      ]
    },
    {
      "cell_type": "markdown",
      "metadata": {
        "id": "esBamtQlJH6w"
      },
      "source": [
        "### Negative correlations smaller than -0.5"
      ]
    },
    {
      "cell_type": "code",
      "metadata": {
        "colab": {
          "base_uri": "https://localhost:8080/",
          "height": 172
        },
        "id": "uGAP7KiE3u0t",
        "outputId": "cc5d0b51-8729-4ca1-9844-3df2a0ef51a5"
      },
      "source": [
        "corr[corr.currentBalance < -0.5]"
      ],
      "execution_count": 28,
      "outputs": [
        {
          "output_type": "execute_result",
          "data": {
            "text/html": [
              "<div>\n",
              "<style scoped>\n",
              "    .dataframe tbody tr th:only-of-type {\n",
              "        vertical-align: middle;\n",
              "    }\n",
              "\n",
              "    .dataframe tbody tr th {\n",
              "        vertical-align: top;\n",
              "    }\n",
              "\n",
              "    .dataframe thead th {\n",
              "        text-align: right;\n",
              "    }\n",
              "</style>\n",
              "<table border=\"1\" class=\"dataframe\">\n",
              "  <thead>\n",
              "    <tr style=\"text-align: right;\">\n",
              "      <th></th>\n",
              "      <th>currentBalance</th>\n",
              "    </tr>\n",
              "  </thead>\n",
              "  <tbody>\n",
              "    <tr>\n",
              "      <th>creditLimit</th>\n",
              "      <td>-0.707</td>\n",
              "    </tr>\n",
              "    <tr>\n",
              "      <th>availableMoney</th>\n",
              "      <td>-0.707</td>\n",
              "    </tr>\n",
              "    <tr>\n",
              "      <th>cardPresent</th>\n",
              "      <td>-1.000</td>\n",
              "    </tr>\n",
              "    <tr>\n",
              "      <th>scaled_amount</th>\n",
              "      <td>-0.844</td>\n",
              "    </tr>\n",
              "  </tbody>\n",
              "</table>\n",
              "</div>"
            ],
            "text/plain": [
              "                currentBalance\n",
              "creditLimit             -0.707\n",
              "availableMoney          -0.707\n",
              "cardPresent             -1.000\n",
              "scaled_amount           -0.844"
            ]
          },
          "metadata": {
            "tags": []
          },
          "execution_count": 28
        }
      ]
    },
    {
      "cell_type": "markdown",
      "metadata": {
        "id": "g8yHG8_3JO9Z"
      },
      "source": [
        "### Positive correlations greater than 0.5"
      ]
    },
    {
      "cell_type": "code",
      "metadata": {
        "colab": {
          "base_uri": "https://localhost:8080/",
          "height": 110
        },
        "id": "MVz0yoia4ttK",
        "outputId": "86c55cd3-656b-4620-e809-7a34febd2e02"
      },
      "source": [
        "corr[corr.currentBalance > 0.5]"
      ],
      "execution_count": 28,
      "outputs": [
        {
          "output_type": "execute_result",
          "data": {
            "text/html": [
              "<div>\n",
              "<style scoped>\n",
              "    .dataframe tbody tr th:only-of-type {\n",
              "        vertical-align: middle;\n",
              "    }\n",
              "\n",
              "    .dataframe tbody tr th {\n",
              "        vertical-align: top;\n",
              "    }\n",
              "\n",
              "    .dataframe thead th {\n",
              "        text-align: right;\n",
              "    }\n",
              "</style>\n",
              "<table border=\"1\" class=\"dataframe\">\n",
              "  <thead>\n",
              "    <tr style=\"text-align: right;\">\n",
              "      <th></th>\n",
              "      <th>currentBalance</th>\n",
              "    </tr>\n",
              "  </thead>\n",
              "  <tbody>\n",
              "    <tr>\n",
              "      <th>currentBalance</th>\n",
              "      <td>1.000</td>\n",
              "    </tr>\n",
              "    <tr>\n",
              "      <th>scaled_amount</th>\n",
              "      <td>0.905</td>\n",
              "    </tr>\n",
              "  </tbody>\n",
              "</table>\n",
              "</div>"
            ],
            "text/plain": [
              "                currentBalance\n",
              "currentBalance           1.000\n",
              "scaled_amount            0.905"
            ]
          },
          "metadata": {
            "tags": []
          },
          "execution_count": 28
        }
      ]
    },
    {
      "cell_type": "markdown",
      "metadata": {
        "id": "U3qZMbpVJUZ2"
      },
      "source": [
        "### Visualizing features with high negative correlation"
      ]
    },
    {
      "cell_type": "code",
      "metadata": {
        "colab": {
          "base_uri": "https://localhost:8080/",
          "height": 636
        },
        "id": "11Jkki474tpP",
        "outputId": "d52fd0f4-6602-4a7b-83ea-e9940f4bb919"
      },
      "source": [
        "f, axes = plt.subplots(nrows=1, ncols=2, figsize=(18,9))\n",
        "\n",
        "f.suptitle('Features With High Negative Correlation', size=20)\n",
        "sns.boxplot(x=\"currentBalance\", y=\"creditLimit\", data=subsample, ax=axes[0])\n",
        "sns.boxplot(x=\"currentBalance\", y=\"scaled_amount\", data=subsample, ax=axes[1])\n"
      ],
      "execution_count": 29,
      "outputs": [
        {
          "output_type": "execute_result",
          "data": {
            "text/plain": [
              "<matplotlib.axes._subplots.AxesSubplot at 0x7fc330973890>"
            ]
          },
          "metadata": {
            "tags": []
          },
          "execution_count": 29
        },
        {
          "output_type": "display_data",
          "data": {
            "image/png": "[encoded data removed]",
            "text/plain": [
              "<Figure size 1296x648 with 2 Axes>"
            ]
          },
          "metadata": {
            "tags": []
          }
        }
      ]
    },
    {
      "cell_type": "markdown",
      "metadata": {
        "id": "FltGOLaeJeiO"
      },
      "source": [
        "### Removing extreme outliers"
      ]
    },
    {
      "cell_type": "code",
      "metadata": {
        "colab": {
          "base_uri": "https://localhost:8080/"
        },
        "id": "3cbNqgvj4tjn",
        "outputId": "c467283d-527d-4e64-a21f-4e88a393918e"
      },
      "source": [
        "Q1 = subsample.quantile(0.25)\n",
        "Q3 = subsample.quantile(0.75)\n",
        "IQR = Q3 - Q1\n",
        "\n",
        "df2 = subsample[~((subsample < (Q1 - 2.5 * IQR)) |(subsample > (Q3 + 2.5 * IQR))).any(axis=1)]\n",
        "\n",
        "len_after = len(df2)\n",
        "len_before = len(subsample)\n",
        "len_difference = len(subsample) - len(df2)\n",
        "print('We reduced our data size from {} transactions by {} transactions to {} transactions.'.format(len_before, len_difference, len_after))"
      ],
      "execution_count": 30,
      "outputs": [
        {
          "output_type": "stream",
          "text": [
            "We reduced our data size from 4 transactions by 1 transactions to 3 transactions.\n"
          ],
          "name": "stdout"
        }
      ]
    },
    {
      "cell_type": "code",
      "metadata": {
        "id": "j_bW6e6RKrxD"
      },
      "source": [
        "from sklearn.manifold import TSNE\n",
        "\n",
        "X = df2.drop('currentBalance', axis=1)\n",
        "y = df2['currentBalance']"
      ],
      "execution_count": 32,
      "outputs": []
    },
    {
      "cell_type": "code",
      "metadata": {
        "id": "joE-dILF-2IQ"
      },
      "source": [
        "def warn(*args, **kwargs):\n",
        "    pass\n",
        "import warnings\n",
        "warnings.warn = warn"
      ],
      "execution_count": 33,
      "outputs": []
    },
    {
      "cell_type": "code",
      "metadata": {
        "id": "9EAyNVzmBENe"
      },
      "source": [
        "# train test split\n",
        "from sklearn.model_selection import train_test_split\n",
        "\n",
        "X_train, X_test, y_train, y_test = train_test_split(X, y, test_size=0.2, random_state=42)"
      ],
      "execution_count": 34,
      "outputs": []
    },
    {
      "cell_type": "code",
      "metadata": {
        "id": "YFmb1KxsEj17"
      },
      "source": [
        "X_train = X_train.values\n",
        "X_validation = X_test.values\n",
        "y_train = y_train.values\n",
        "y_validation = y_test.values"
      ],
      "execution_count": 35,
      "outputs": []
    },
    {
      "cell_type": "code",
      "metadata": {
        "colab": {
          "base_uri": "https://localhost:8080/"
        },
        "id": "35mO0VspEjuL",
        "outputId": "886b71f8-57f1-400a-a55e-b21059795d6b"
      },
      "source": [
        "print('X_shapes:\\n', 'X_train:', 'X_validation:\\n', X_train.shape, X_validation.shape, '\\n')\n",
        "print('Y_shapes:\\n', 'Y_train:', 'Y_validation:\\n', y_train.shape, y_validation.shape)"
      ],
      "execution_count": 36,
      "outputs": [
        {
          "output_type": "stream",
          "text": [
            "X_shapes:\n",
            " X_train: X_validation:\n",
            " (2, 27) (1, 27) \n",
            "\n",
            "Y_shapes:\n",
            " Y_train: Y_validation:\n",
            " (2,) (1,)\n"
          ],
          "name": "stdout"
        }
      ]
    },
    {
      "cell_type": "code",
      "metadata": {
        "id": "2KH0fvesLzNU"
      },
      "source": [
        "from sklearn.model_selection import KFold\n",
        "from sklearn.model_selection import cross_val_score\n",
        "from sklearn.metrics import roc_auc_score\n",
        "from sklearn.metrics import classification_report\n",
        "from sklearn.metrics import confusion_matrix\n",
        "from sklearn.linear_model import LogisticRegression\n",
        "from sklearn.discriminant_analysis import LinearDiscriminantAnalysis\n",
        "from sklearn.neighbors import KNeighborsClassifier\n",
        "from sklearn.tree import DecisionTreeClassifier\n",
        "from sklearn.svm import SVC\n",
        "from xgboost import XGBClassifier\n",
        "from sklearn.ensemble import RandomForestClassifier"
      ],
      "execution_count": 46,
      "outputs": []
    },
    {
      "cell_type": "code",
      "metadata": {
        "id": "22XMz7m3LzGF"
      },
      "source": [
        "models = []\n",
        "\n",
        "models.append(('LR', LogisticRegression()))\n",
        "models.append(('LDA', LinearDiscriminantAnalysis()))\n",
        "models.append(('KNN', KNeighborsClassifier()))\n",
        "models.append(('CART', DecisionTreeClassifier()))\n",
        "models.append(('SVM', SVC()))\n",
        "models.append(('XGB', XGBClassifier()))\n",
        "models.append(('RF', RandomForestClassifier()))"
      ],
      "execution_count": 47,
      "outputs": []
    },
    {
      "cell_type": "code",
      "metadata": {
        "colab": {
          "base_uri": "https://localhost:8080/"
        },
        "id": "1R724MwZL3pG",
        "outputId": "8af2f4c2-0431-449b-91f7-0aeb89bf4151"
      },
      "source": [
        "results = []\n",
        "names = []\n",
        "\n",
        "for name, model in models:\n",
        "    kfold = KFold(n_splits=2, random_state=42)\n",
        "    cv_results = cross_val_score(model, X_train, y_train, cv=kfold, scoring='roc_auc')\n",
        "    results.append(cv_results)\n",
        "    names.append(name)\n",
        "    msg = '%s: %f (%f)' % (name, cv_results.mean(), cv_results.std())\n",
        "    print(msg)"
      ],
      "execution_count": 49,
      "outputs": [
        {
          "output_type": "stream",
          "text": [
            "LR: nan (nan)\n",
            "LDA: nan (nan)\n",
            "KNN: nan (nan)\n",
            "CART: nan (nan)\n",
            "SVM: nan (nan)\n",
            "XGB: nan (nan)\n",
            "RF: nan (nan)\n"
          ],
          "name": "stdout"
        }
      ]
    }
  ]
}